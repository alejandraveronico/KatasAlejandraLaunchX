{
    "cells": [
        {
            "cell_type": "code",
            "execution_count": null,
            "source": [
                "#text = \"\"\"Interesting facts about the Moon. The Moon is Earth's only satellite. There are several interesting facts about the Moon and how it affects life here on Earth. \r\n",
                "#On average, the Moon moves 4cm away from the Earth every year. This yearly drift is not significant enough to cause immediate effects on Earth. The highes"
            ],
            "outputs": [],
            "metadata": {}
        },
        {
            "cell_type": "markdown",
            "source": [
                "EJERCICIO 1"
            ],
            "metadata": {}
        },
        {
            "cell_type": "code",
            "execution_count": null,
            "source": [
                "# Divide el texto\r\n",
                "text_parts = text.split('. ')\r\n",
                "text_parts\r\n",
                "# Palabras clave\r\n",
                "key_words = [\"average\", \"temperature\", \"distance\"]\r\n",
                "# Ciclo for para recorrer la cadena\r\n",
                "for sentence in text_parts:\r\n",
                "    for key_word in key_words:\r\n",
                "        if key_word in sentence:\r\n",
                "            print(sentence)\r\n",
                "            break\r\n",
                "        # Ciclo para cambiar C a Celsius\r\n",
                "for sentence in text_parts:\r\n",
                "    for key_word in key_words:\r\n",
                "        if key_word in sentence:\r\n",
                "            print(sentence.replace(' C', ' Celsius'))\r\n",
                "            break"
            ],
            "outputs": [],
            "metadata": {}
        },
        {
            "cell_type": "markdown",
            "source": [
                "Ejercicio 2"
            ],
            "metadata": {}
        },
        {
            "cell_type": "code",
            "execution_count": null,
            "source": [
                "# Datos \r\n",
                "planeta = 'Marte '\r\n",
                "gravedad  = 0.00143\r\n",
                "nombre = 'Ganímedes'\r\n",
                "# Creamos el título\r\n",
                "title = f'datos de gravedad sobre {nombre}'\r\n",
                "# Creamos la plantilla\r\n",
                "hechos = f\"\"\"{'-'*80} \r\n",
                "Nombre del planeta: {planeta} \r\n",
                "Gravedad en {nombre}: {gravedad * 1000} m/s2 \r\n",
                "\"\"\"\r\n",
                "# Unión de ambas cadenas\r\n",
                "template = f\"\"\"{title.title()} \r\n",
                "{hechos} \r\n",
                "\"\"\" \r\n",
                "print(hechos)\r\n",
                "# Nuevos datos muestra\r\n",
                "planeta = 'Marte '\r\n",
                "gravedad  = 0.00143\r\n",
                "nombre = 'Ganímedes'\r\n",
                "# Comprobamos la plantilla\r\n",
                "print(hechos)\r\n",
                "new_template = \"\"\"\r\n",
                "Datos de Gravedad sobre: {nombre}\r\n",
                "-------------------------------------------------------------------------------\r\n",
                "Nombre del planeta: {planeta}\r\n",
                "Gravedad en {nombre}: {gravedad} m/s2\r\n",
                "\"\"\"\r\n",
                "print(new_template.format(nombre=nombre, planeta=planeta, gravedad=gravedad))\r\n",
                "# Pista: print(nueva_plantilla.format(variables))\r\n",
                "print(new_template.format(nombre=nombre, planeta=planeta, gravedad=gravedad*1000))"
            ],
            "outputs": [],
            "metadata": {}
        }
    ],
    "metadata": {
        "orig_nbformat": 4,
        "language_info": {
            "name": "python"
        }
    },
    "nbformat": 4,
    "nbformat_minor": 2
}