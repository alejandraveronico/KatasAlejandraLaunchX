{
    "cells": [
        {
            "cell_type": "markdown",
            "source": [],
            "metadata": {}
        },
        {
            "cell_type": "code",
            "execution_count": null,
            "source": [
                "from datetime import date\r\n",
                "print(\"Today´s date is: \"+str(date.today()))"
            ],
            "outputs": [],
            "metadata": {}
        },
        {
            "cell_type": "code",
            "execution_count": null,
            "source": [
                "parsec = 11\r\n",
                "lightyears = 3.26156 * parsec\r\n",
                "\r\n",
                "print(str(parsec) + \" parsec, is \" + str(lightyears))"
            ],
            "outputs": [],
            "metadata": {}
        },
        {
            "cell_type": "code",
            "execution_count": null,
            "source": [],
            "outputs": [],
            "metadata": {}
        }
    ],
    "metadata": {
        "orig_nbformat": 4,
        "language_info": {
            "name": "python",
            "version": "3.8.1"
        },
        "kernelspec": {
            "name": "python3",
            "display_name": "Python 3.8.1 64-bit"
        },
        "interpreter": {
            "hash": "646418d06cbe0b838efff9a5f298d9dadbc15ffb91d1a797c32076252359c113"
        }
    },
    "nbformat": 4,
    "nbformat_minor": 2
}