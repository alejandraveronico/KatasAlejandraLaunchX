{
  "nbformat": 4,
  "nbformat_minor": 0,
  "metadata": {
    "colab": {
      "provenance": [],
      "authorship_tag": "ABX9TyNf0pKGsKHnZCFQv70JswSH",
      "include_colab_link": true
    },
    "kernelspec": {
      "name": "python3",
      "display_name": "Python 3"
    },
    "language_info": {
      "name": "python"
    }
  },
  "cells": [
    {
      "cell_type": "markdown",
      "metadata": {
        "id": "view-in-github",
        "colab_type": "text"
      },
      "source": [
        "<a href=\"https://colab.research.google.com/github/alejandraveronico/KatasAlejandraLaunchX/blob/main/PIA_PYPT.ipynb\" target=\"_parent\"><img src=\"https://colab.research.google.com/assets/colab-badge.svg\" alt=\"Open In Colab\"/></a>"
      ]
    },
    {
      "cell_type": "code",
      "execution_count": null,
      "metadata": {
        "id": "b-aH64r0KhOC"
      },
      "outputs": [],
      "source": [
        "#PROTECCION Y PUESTA A TIERRA\n",
        "  #Diseñar una puesta a tierra de una subestación\n",
        "  "
      ]
    },
    {
      "cell_type": "code",
      "source": [
        "from math import sqrt\n",
        "#Establecemos variables\n",
        "tf=float(input(\"Duracion de falla:\"))\n",
        "#Determinar el valor de impedancia Z1\n",
        "nr1=float(input(\"parte real:\"))\n",
        "ni1=float(input(\"parte imaginaria: Ω\"))\n",
        "kv1=float(input(\"valor de voltaje en voltios: v\"))\n",
        "\n",
        "Z1=float(input(\"Impedancia positiva:\"))\n",
        "#Determinar el valor de impedancia 0\n",
        "nr0=float(input(\"parte real:\"))\n",
        "ni0=float(input(\"parte imaginaria: Ω\"))\n",
        "kv0=float(input(\"valor de voltaje en voltios: v\"))\n",
        "\n",
        "sf=float(input(\"factor de division de corriente: \"))\n",
        "vll=float(input(\"Tensión de línea a línea en la ubicación de la peor falla impedancia:\"))\n",
        "ρ=float(input(\"Resistividad del suelo: Ω·m\"))\n",
        "ρs=float(input(\"Resistividad del material: Ω·m\"))\n",
        "hs=float(input(\"espesor de la superficie: \"))\n",
        "h=float(input(\"Profundidad de enterramiento\"))\n",
        "\n",
        "#Determinar el valor de area\n",
        "l1=int(input(\"valor del lado 1:\"))\n",
        "l2=int(input(\"valor del lado 2:\"))\n",
        "A=l1*l2\n",
        "\n",
        "\n",
        "\n",
        "\n",
        "\n",
        "\n",
        "\n",
        "\n",
        "\n",
        "\n"
      ],
      "metadata": {
        "id": "tAMYpBayWDL9"
      },
      "execution_count": null,
      "outputs": []
    }
  ]
}