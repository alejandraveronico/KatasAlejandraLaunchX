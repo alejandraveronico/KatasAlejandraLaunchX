{
    "cells": [
        {
            "cell_type": "code",
            "execution_count": null,
            "source": [],
            "outputs": [],
            "metadata": {}
        },
        {
            "cell_type": "markdown",
            "source": [
                "#problema 1"
            ],
            "metadata": {}
        },
        {
            "cell_type": "code",
            "execution_count": null,
            "source": [
                "# Añadir el código necesario para crear una variable que guarde la velocidad del asteroide.\r\n",
                "# Escribe una expresión de prueba para calcular si necesita una advertencia.\r\n",
                "# Agregue las instrucciones que se ejecutarán si la expresión de prueba es true o false.\r\n",
                "\r\n",
                "asteroide = 49\r\n",
                "if asteroide > 25:\r\n",
                "    print('¡Alerta! ¡Un asteroide se acerca a velocidades peligrosas!')\r\n",
                "else:\r\n",
                "    print('¡Sigue con tu día!')"
            ],
            "outputs": [],
            "metadata": {}
        },
        {
            "cell_type": "code",
            "execution_count": null,
            "source": [
                "# Agrega el código para crear una variable para un asteroide que viaja a 19 km/s\r\n",
                "# Escribe varias expresiones de prueba para determinar si puedes ver el rayo de luz desde la tierra\r\n",
                "# Agrega las instrucciones que se ejecutarán si las expresiones de prueba son True o False\r\n",
                "\r\n",
                "asteroide = 19\r\n",
                "if asteroide > 20:\r\n",
                "    print('Look up! ¡Hay una luz mágica en el cielo!')\r\n",
                "elif asteroide == 20:\r\n",
                "    print('Look up! ¡Hay una luz mágica en el cielo!')\r\n",
                "else:\r\n",
                "    print('¡Nada que ver aquí!')"
            ],
            "outputs": [],
            "metadata": {}
        },
        {
            "cell_type": "code",
            "execution_count": null,
            "source": [
                "# Agrega el código para crear nuevas variables para la velocidad y el tamaño del asteroide\r\n",
                "# Para probar el código, prueba con varias velocidades y tamaños\r\n",
                "# Escribe varias expresiones de prueba o combinaciones de expresiones de prueba para determinar qué mensaje se debe enviar a Tierra.\r\n",
                "\r\n",
                "velocidad_asteroide = 25\r\n",
                "tamano_asteroide = 40\r\n",
                "if velocidad_asteroide > 25 and tamano_asteroide > 25:\r\n",
                "    print('¡Alerta, Un asteroide muy peligroso viene hacia la Tierra!')\r\n",
                "elif velocidad_asteroide >= 20:\r\n",
                "    print('Look up! ¡Hay una luz mágica en el cielo!')\r\n",
                "elif tamano_asteroide < 25:\r\n",
                "    print('Nada que ver aquí :)')\r\n",
                "else:\r\n",
                "    print('Nada que ver aquí :)')"
            ],
            "outputs": [],
            "metadata": {}
        }
    ],
    "metadata": {
        "orig_nbformat": 4,
        "language_info": {
            "name": "python"
        }
    },
    "nbformat": 4,
    "nbformat_minor": 2
}