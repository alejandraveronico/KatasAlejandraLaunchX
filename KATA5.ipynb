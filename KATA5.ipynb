{
    "cells": [
        {
            "cell_type": "code",
            "execution_count": null,
            "source": [
                "#EJERCICIO1 \r\n",
                "first_planet = 149597870\r\n",
                "second_planet = 778547200\r\n",
                "# Calcular la distancia entre planetas\r\n",
                "\r\n",
                "distance_km = second_planet - first_planet\r\n",
                "print(distance_km)\r\n",
                "\r\n",
                "distance_mi = distance_km * 0.621\r\n",
                "print(distance_mi)\r\n",
                "#Ejercicio 2\r\n",
                "# Almacenar las entradas del usuario\r\n",
                "first_planet = input('Introduzca la distancia del sol para el primer planeta en KM')\r\n",
                "second_planet = input('Introduzca la distancia desde el sol para el segundo planeta en KM')\r\n",
                "# Convierte las cadenas de ambos planetas a números enteros\r\n",
                "first_planet = int(first_planet)\r\n",
                "second_planet = int(second_planet)\r\n",
                "# Realizar el cálculo y determinar el valor absoluto\r\n",
                "distance_km = second_planet - first_planet\r\n",
                "print(distance_km)\r\n",
                "\r\n",
                "# Convertir de KM a Millas\r\n",
                "distance_mi = distance_km * 0.621\r\n",
                "print(abs(distance_mi))"
            ],
            "outputs": [],
            "metadata": {}
        }
    ],
    "metadata": {
        "orig_nbformat": 4,
        "language_info": {
            "name": "python"
        }
    },
    "nbformat": 4,
    "nbformat_minor": 2
}