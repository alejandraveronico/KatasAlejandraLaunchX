{
    "cells": [
        {
            "cell_type": "code",
            "execution_count": null,
            "source": [
                "#Ejercicio1: Crear y usar listas de Python\r\n"
            ],
            "outputs": [],
            "metadata": {}
        },
        {
            "cell_type": "code",
            "execution_count": null,
            "source": [
                "#Ejercicio 1\r\n",
                "# Creamos la lista planets y la mostramos\r\n",
                "\r\n",
                "planets = ['Mercury', 'Venus', 'Earth', 'Mars', 'Jupiter', 'Saturn', 'Uranus', 'Neptune']\r\n",
                "\r\n",
                "print('There are', len(planets), 'planets')\r\n",
                "# Agregamos a plutón y mostramos el último elemento\r\n",
                "\r\n",
                "planets.append('Pluto')\r\n",
                "\r\n",
                "print(planets[-1], 'is the last planet')\r\n",
                "#Ejercicio 2\r\n",
                "# Lista de planetas\r\n",
                "\r\n",
                "planets = ['Mercury', 'Venus', 'Earth', 'Mars', 'Jupiter', 'Saturn', 'Neptune']\r\n",
                "# Solicitamos el nombre de un planeta *Pista:  input()*\r\n",
                "user_planet = input('Please enter the name of the planet (with a capital letter to start)')\r\n",
                "# Busca el planeta en la lista\r\n",
                "\r\n",
                "planet_index = planets.index(user_planet)\r\n",
                "# Muestra los planetas más cercanos al sol\r\n",
                "\r\n",
                "print('Here are the planets closer than ' + user_planet)\r\n",
                "print(planets[0:planet_index])\r\n",
                "# Muestra los planetas más lejanos al sol\r\n",
                "\r\n",
                "print('Here are the planets further than ' + user_planet)\r\n",
                "print(planets[planet_index + 1:])"
            ],
            "outputs": [],
            "metadata": {}
        }
    ],
    "metadata": {
        "orig_nbformat": 4,
        "language_info": {
            "name": "python"
        }
    },
    "nbformat": 4,
    "nbformat_minor": 2
}